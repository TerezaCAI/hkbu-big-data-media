{
 "cells": [
  {
   "cell_type": "code",
   "execution_count": 1,
   "metadata": {},
   "outputs": [],
   "source": [
    "import requests\n",
    "from bs4 import BeautifulSoup\n",
    "import csv"
   ]
  },
  {
   "cell_type": "code",
   "execution_count": 3,
   "metadata": {},
   "outputs": [],
   "source": [
    "hacker='https://news.ycombinator.com/'\n",
    "title=[]\n",
    "score=[]\n",
    "time=[]\n",
    "for i in range(1,100):\n",
    "    url=hacker+'news?p='+str(i)\n",
    "    r=requests.get(url).text\n",
    "    page=BeautifulSoup(r,'html.parser')\n",
    "    area=page.find_all('a',attrs={'class':'storylink'})\n",
    "    for t in area:\n",
    "        title.append(t.text)\n",
    "    subtext=page.find_all('span',attrs={'class':'score'})\n",
    "    for s in subtext:\n",
    "        score.append(s.text)\n",
    "    age=page.find_all('span',attrs={'class':'age'})\n",
    "    for a in age:\n",
    "        time.append(a.text)\n",
    "with open('latest.csv','w') as f:\n",
    "    writer=csv.writer(f)\n",
    "    header=['title','score','time']\n",
    "    writer.writerow(header)\n",
    "    rows=zip(title,score,time)\n",
    "    for row in rows:\n",
    "        writer.writerow(row)\n",
    "\n",
    "text=[]\n",
    "user=[]\n",
    "for i in range(16780100,16780800,30):\n",
    "    url=hacker+'newcomments?next='+str(i)\n",
    "    r=requests.get(url).text\n",
    "    page=BeautifulSoup(r,'html.parser')\n",
    "    content=page.find_all('span',attrs={'class':'c00'}) \n",
    "    for c in content:\n",
    "        text.append(c.text.rstrip('\\n'))\n",
    "    name = page.find_all('a',attrs={'class':'hnuser'})\n",
    "    for n in name:\n",
    "        user.append(n.text)\n",
    "        \n",
    "with open('comments.csv','w') as f:\n",
    "    writer=csv.writer(f)\n",
    "    header=['text','user']\n",
    "    writer.writerow(header)\n",
    "    rows=zip(text,user)\n",
    "    for row in rows:\n",
    "        writer.writerow(row)"
   ]
  }
 ],
 "metadata": {
  "kernelspec": {
   "display_name": "Python 3",
   "language": "python",
   "name": "python3"
  },
  "language_info": {
   "codemirror_mode": {
    "name": "ipython",
    "version": 3
   },
   "file_extension": ".py",
   "mimetype": "text/x-python",
   "name": "python",
   "nbconvert_exporter": "python",
   "pygments_lexer": "ipython3",
   "version": "3.6.4"
  }
 },
 "nbformat": 4,
 "nbformat_minor": 2
}
